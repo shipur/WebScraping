{
 "cells": [
  {
   "cell_type": "code",
   "execution_count": 259,
   "metadata": {
    "collapsed": true
   },
   "outputs": [],
   "source": [
    "import nbconvert\n",
    "from bs4 import BeautifulSoup\n",
    "import requests\n",
    "import pandas as pd\n",
    "import numpy as np\n",
    "from selenium import webdriver\n",
    "import splinter\n",
    "from splinter import Browser\n",
    "import pprint"
   ]
  },
  {
   "cell_type": "code",
   "execution_count": 260,
   "metadata": {
    "collapsed": true
   },
   "outputs": [],
   "source": [
    "### Step 1 - Scraping"
   ]
  },
  {
   "cell_type": "code",
   "execution_count": 261,
   "metadata": {},
   "outputs": [],
   "source": [
    "#!which chromedriver"
   ]
  },
  {
   "cell_type": "code",
   "execution_count": 262,
   "metadata": {
    "collapsed": true
   },
   "outputs": [],
   "source": [
    "executable_path = {'executable_path': '/usr/local/bin/chromedriver'}\n",
    "browser = Browser('chrome', **executable_path, headless=False)"
   ]
  },
  {
   "cell_type": "code",
   "execution_count": 263,
   "metadata": {
    "collapsed": true
   },
   "outputs": [],
   "source": [
    "url = 'https://mars.nasa.gov/news/'\n",
    "browser.visit(url)"
   ]
  },
  {
   "cell_type": "code",
   "execution_count": 264,
   "metadata": {
    "collapsed": true
   },
   "outputs": [],
   "source": [
    "html = browser.html\n",
    "soup = BeautifulSoup(html, 'html.parser')"
   ]
  },
  {
   "cell_type": "code",
   "execution_count": 265,
   "metadata": {
    "collapsed": true
   },
   "outputs": [],
   "source": [
    "#print(soup.prettify())\n",
    "combined_dict = {}"
   ]
  },
  {
   "cell_type": "code",
   "execution_count": 266,
   "metadata": {
    "collapsed": true
   },
   "outputs": [],
   "source": [
    "### NASA Mars News"
   ]
  },
  {
   "cell_type": "code",
   "execution_count": 267,
   "metadata": {},
   "outputs": [
    {
     "data": {
      "text/plain": [
       "\"NASA's First Deep-Space CubeSats Say: 'Polo!'\""
      ]
     },
     "execution_count": 267,
     "metadata": {},
     "output_type": "execute_result"
    }
   ],
   "source": [
    "# Retrieve the parent div for the latest News article\n",
    "news_title = soup.find('div', class_='content_title').a.text\n",
    "news_title"
   ]
  },
  {
   "cell_type": "code",
   "execution_count": 268,
   "metadata": {
    "collapsed": true
   },
   "outputs": [],
   "source": [
    "#Add this value to a dictionary:\n",
    "combined_dict['newsTitle'] = news_title"
   ]
  },
  {
   "cell_type": "code",
   "execution_count": 269,
   "metadata": {},
   "outputs": [
    {
     "data": {
      "text/plain": [
       "\"MarCO is a pair of tiny spacecraft that launched with NASA's InSight lander today.\""
      ]
     },
     "execution_count": 269,
     "metadata": {},
     "output_type": "execute_result"
    }
   ],
   "source": [
    "# Retrieve the parent div for the latest News text\n",
    "news_text = soup.find('div', class_='article_teaser_body').text\n",
    "news_text"
   ]
  },
  {
   "cell_type": "code",
   "execution_count": 270,
   "metadata": {
    "collapsed": true
   },
   "outputs": [],
   "source": [
    "#Add this value to a dictionary:\n",
    "combined_dict['newsParagraph'] = news_text"
   ]
  },
  {
   "cell_type": "code",
   "execution_count": 271,
   "metadata": {
    "collapsed": true
   },
   "outputs": [],
   "source": [
    "### JPL Mars Space Images - Featured Image"
   ]
  },
  {
   "cell_type": "code",
   "execution_count": 272,
   "metadata": {
    "collapsed": true
   },
   "outputs": [],
   "source": [
    "###url = 'https://www.jpl.nasa.gov/spaceimages/?search=&category=Mars'\n",
    "url = 'https://www.jpl.nasa.gov/spaceimages/details.php?id=PIA20465'\n",
    "browser.visit(url)\n",
    "\n",
    "html = browser.html\n",
    "soup = BeautifulSoup(html, 'html.parser')\n"
   ]
  },
  {
   "cell_type": "code",
   "execution_count": 273,
   "metadata": {},
   "outputs": [
    {
     "name": "stdout",
     "output_type": "stream",
     "text": [
      "/spaceimages/images/largesize/PIA20465_hires.jpg\n"
     ]
    }
   ],
   "source": [
    "####featured_image_url = soup.find('img', class_=\"fancybox-image\")\n",
    "###print(featured_image_url)\n",
    "\n",
    "#Add this value to a dictionary:\n",
    "#####combined_dict['featuredImage'] = featured_image_url\n",
    "\n",
    "#featured_image_url = soup.find('div', class_=\"fancybox-inner fancybox-skin fancybox-dark-skin-open\").img['src']\n",
    "featured_image = soup.find('figure', class_=\"lede\").img\n",
    "featured_image_url = featured_image['src']\n",
    "print(featured_image_url)"
   ]
  },
  {
   "cell_type": "code",
   "execution_count": 274,
   "metadata": {
    "collapsed": true
   },
   "outputs": [],
   "source": [
    "#Add this value to a dictionary:\n",
    "combined_dict['featuredImage'] = featured_image_url"
   ]
  },
  {
   "cell_type": "code",
   "execution_count": 275,
   "metadata": {
    "collapsed": true
   },
   "outputs": [],
   "source": [
    "### Mars Weather  [https://twitter.com/marswxreport?lang=en]"
   ]
  },
  {
   "cell_type": "code",
   "execution_count": 276,
   "metadata": {
    "collapsed": true
   },
   "outputs": [],
   "source": [
    "url = 'https://twitter.com/marswxreport?lang=en'\n",
    "browser.visit(url)\n",
    "\n",
    "html = browser.html\n",
    "soup = BeautifulSoup(html, 'html.parser')"
   ]
  },
  {
   "cell_type": "code",
   "execution_count": 277,
   "metadata": {},
   "outputs": [
    {
     "data": {
      "text/plain": [
       "'Sol 2042 (May 05, 2018), Sunny, high -7C/19F, low -72C/-97F, pressure at 7.30 hPa, daylight 05:23-17:20'"
      ]
     },
     "execution_count": 277,
     "metadata": {},
     "output_type": "execute_result"
    }
   ],
   "source": [
    "mars_weather = soup.find('p', 'TweetTextSize TweetTextSize--normal js-tweet-text tweet-text').text\n",
    "mars_weather"
   ]
  },
  {
   "cell_type": "code",
   "execution_count": 278,
   "metadata": {
    "collapsed": true
   },
   "outputs": [],
   "source": [
    "#Add this value to a dictionary:\n",
    "combined_dict['twitterMarsWeather'] = mars_weather"
   ]
  },
  {
   "cell_type": "code",
   "execution_count": 279,
   "metadata": {
    "collapsed": true
   },
   "outputs": [],
   "source": [
    "### Mars Facts (http://space-facts.com/mars/)"
   ]
  },
  {
   "cell_type": "code",
   "execution_count": 280,
   "metadata": {},
   "outputs": [
    {
     "data": {
      "text/html": [
       "<div>\n",
       "<style>\n",
       "    .dataframe thead tr:only-child th {\n",
       "        text-align: right;\n",
       "    }\n",
       "\n",
       "    .dataframe thead th {\n",
       "        text-align: left;\n",
       "    }\n",
       "\n",
       "    .dataframe tbody tr th {\n",
       "        vertical-align: top;\n",
       "    }\n",
       "</style>\n",
       "<table border=\"1\" class=\"dataframe\">\n",
       "  <thead>\n",
       "    <tr style=\"text-align: right;\">\n",
       "      <th></th>\n",
       "      <th>0</th>\n",
       "      <th>1</th>\n",
       "    </tr>\n",
       "  </thead>\n",
       "  <tbody>\n",
       "    <tr>\n",
       "      <th>0</th>\n",
       "      <td>Equatorial Diameter:</td>\n",
       "      <td>6,792 km</td>\n",
       "    </tr>\n",
       "    <tr>\n",
       "      <th>1</th>\n",
       "      <td>Polar Diameter:</td>\n",
       "      <td>6,752 km</td>\n",
       "    </tr>\n",
       "    <tr>\n",
       "      <th>2</th>\n",
       "      <td>Mass:</td>\n",
       "      <td>6.42 x 10^23 kg (10.7% Earth)</td>\n",
       "    </tr>\n",
       "    <tr>\n",
       "      <th>3</th>\n",
       "      <td>Moons:</td>\n",
       "      <td>2 (Phobos &amp; Deimos)</td>\n",
       "    </tr>\n",
       "    <tr>\n",
       "      <th>4</th>\n",
       "      <td>Orbit Distance:</td>\n",
       "      <td>227,943,824 km (1.52 AU)</td>\n",
       "    </tr>\n",
       "    <tr>\n",
       "      <th>5</th>\n",
       "      <td>Orbit Period:</td>\n",
       "      <td>687 days (1.9 years)</td>\n",
       "    </tr>\n",
       "    <tr>\n",
       "      <th>6</th>\n",
       "      <td>Surface Temperature:</td>\n",
       "      <td>-153 to 20 °C</td>\n",
       "    </tr>\n",
       "    <tr>\n",
       "      <th>7</th>\n",
       "      <td>First Record:</td>\n",
       "      <td>2nd millennium BC</td>\n",
       "    </tr>\n",
       "    <tr>\n",
       "      <th>8</th>\n",
       "      <td>Recorded By:</td>\n",
       "      <td>Egyptian astronomers</td>\n",
       "    </tr>\n",
       "  </tbody>\n",
       "</table>\n",
       "</div>"
      ],
      "text/plain": [
       "                      0                              1\n",
       "0  Equatorial Diameter:                       6,792 km\n",
       "1       Polar Diameter:                       6,752 km\n",
       "2                 Mass:  6.42 x 10^23 kg (10.7% Earth)\n",
       "3                Moons:            2 (Phobos & Deimos)\n",
       "4       Orbit Distance:       227,943,824 km (1.52 AU)\n",
       "5         Orbit Period:           687 days (1.9 years)\n",
       "6  Surface Temperature:                  -153 to 20 °C\n",
       "7         First Record:              2nd millennium BC\n",
       "8          Recorded By:           Egyptian astronomers"
      ]
     },
     "execution_count": 280,
     "metadata": {},
     "output_type": "execute_result"
    }
   ],
   "source": [
    "fact_string = pd.read_html('http://space-facts.com/mars/')[0]\n",
    "#print(fact_string)\n",
    "fact_string"
   ]
  },
  {
   "cell_type": "code",
   "execution_count": 281,
   "metadata": {
    "collapsed": true
   },
   "outputs": [],
   "source": [
    "#Add this value to a dictionary:\n",
    "#####combined_dict['marsFacts'] = fact_string"
   ]
  },
  {
   "cell_type": "code",
   "execution_count": 282,
   "metadata": {},
   "outputs": [
    {
     "name": "stdout",
     "output_type": "stream",
     "text": [
      "<table border=\"1\" class=\"dataframe\">\n",
      " <thead>\n",
      "  <tr style=\"text-align: right;\">\n",
      "   <th>\n",
      "   </th>\n",
      "   <th>\n",
      "    0\n",
      "   </th>\n",
      "   <th>\n",
      "    1\n",
      "   </th>\n",
      "  </tr>\n",
      " </thead>\n",
      " <tbody>\n",
      "  <tr>\n",
      "   <th>\n",
      "    0\n",
      "   </th>\n",
      "   <td>\n",
      "    Equatorial Diameter:\n",
      "   </td>\n",
      "   <td>\n",
      "    6,792 km\n",
      "   </td>\n",
      "  </tr>\n",
      "  <tr>\n",
      "   <th>\n",
      "    1\n",
      "   </th>\n",
      "   <td>\n",
      "    Polar Diameter:\n",
      "   </td>\n",
      "   <td>\n",
      "    6,752 km\n",
      "   </td>\n",
      "  </tr>\n",
      "  <tr>\n",
      "   <th>\n",
      "    2\n",
      "   </th>\n",
      "   <td>\n",
      "    Mass:\n",
      "   </td>\n",
      "   <td>\n",
      "    6.42 x 10^23 kg (10.7% Earth)\n",
      "   </td>\n",
      "  </tr>\n",
      "  <tr>\n",
      "   <th>\n",
      "    3\n",
      "   </th>\n",
      "   <td>\n",
      "    Moons:\n",
      "   </td>\n",
      "   <td>\n",
      "    2 (Phobos &amp; Deimos)\n",
      "   </td>\n",
      "  </tr>\n",
      "  <tr>\n",
      "   <th>\n",
      "    4\n",
      "   </th>\n",
      "   <td>\n",
      "    Orbit Distance:\n",
      "   </td>\n",
      "   <td>\n",
      "    227,943,824 km (1.52 AU)\n",
      "   </td>\n",
      "  </tr>\n",
      "  <tr>\n",
      "   <th>\n",
      "    5\n",
      "   </th>\n",
      "   <td>\n",
      "    Orbit Period:\n",
      "   </td>\n",
      "   <td>\n",
      "    687 days (1.9 years)\n",
      "   </td>\n",
      "  </tr>\n",
      "  <tr>\n",
      "   <th>\n",
      "    6\n",
      "   </th>\n",
      "   <td>\n",
      "    Surface Temperature:\n",
      "   </td>\n",
      "   <td>\n",
      "    -153 to 20 °C\n",
      "   </td>\n",
      "  </tr>\n",
      "  <tr>\n",
      "   <th>\n",
      "    7\n",
      "   </th>\n",
      "   <td>\n",
      "    First Record:\n",
      "   </td>\n",
      "   <td>\n",
      "    2nd millennium BC\n",
      "   </td>\n",
      "  </tr>\n",
      "  <tr>\n",
      "   <th>\n",
      "    8\n",
      "   </th>\n",
      "   <td>\n",
      "    Recorded By:\n",
      "   </td>\n",
      "   <td>\n",
      "    Egyptian astronomers\n",
      "   </td>\n",
      "  </tr>\n",
      " </tbody>\n",
      "</table>\n"
     ]
    }
   ],
   "source": [
    "html_facts_string = fact_string.to_html()\n",
    "soup = BeautifulSoup(html_facts_string, 'html.parser')\n",
    "print(soup.prettify())"
   ]
  },
  {
   "cell_type": "code",
   "execution_count": 283,
   "metadata": {
    "collapsed": true
   },
   "outputs": [],
   "source": [
    "#Add this value to a dictionary:\n",
    "combined_dict['marsFactsHTML'] = html_facts_string"
   ]
  },
  {
   "cell_type": "code",
   "execution_count": 284,
   "metadata": {
    "collapsed": true
   },
   "outputs": [],
   "source": [
    "### Mars Hemisperes  https://astrogeology.usgs.gov/search/results?q=hemisphere+enhanced&k1=target&v1=Mars\n",
    "## image_url\n",
    "## title"
   ]
  },
  {
   "cell_type": "code",
   "execution_count": 285,
   "metadata": {
    "collapsed": true
   },
   "outputs": [],
   "source": [
    "# hemisphere_image_urls=[]\n",
    "dict_temp = {}\n",
    "titles = []\n",
    "image_urls = []\n",
    "dictList_image_urls = []"
   ]
  },
  {
   "cell_type": "code",
   "execution_count": 286,
   "metadata": {},
   "outputs": [],
   "source": [
    "url = 'https://astrogeology.usgs.gov/search/results?q=hemisphere+enhanced&k1=target&v1=Mars'\n",
    "browser.visit(url)\n",
    "\n",
    "html = browser.html\n",
    "soup = BeautifulSoup(html, 'html.parser')"
   ]
  },
  {
   "cell_type": "code",
   "execution_count": 287,
   "metadata": {},
   "outputs": [
    {
     "name": "stdout",
     "output_type": "stream",
     "text": [
      "Cerberus Hemisphere Enhanced\n",
      "Schiaparelli Hemisphere Enhanced\n",
      "Syrtis Major Hemisphere Enhanced\n",
      "Valles Marineris Hemisphere Enhanced\n"
     ]
    }
   ],
   "source": [
    "#Finding all the titles for the hemispheres from the website:\n",
    "\n",
    "hemisphere_descriptions = soup.find_all('div', class_='description')\n",
    "for description in hemisphere_descriptions:\n",
    "    hemisphere_title = description.a.h3.text\n",
    "    #Add this value to a dictionary:\n",
    "    combined_dict[hemisphere_title] = hemisphere_title\n",
    "    titles.append(hemisphere_title)\n",
    "    print(hemisphere_title)\n",
    "    \n",
    "#     imageSrc = soup.find('img', class_='wide-image')['src']\n",
    "#     print(imageSrc)\n",
    "#     image_urls.append(imageSrc)"
   ]
  },
  {
   "cell_type": "code",
   "execution_count": 288,
   "metadata": {},
   "outputs": [
    {
     "name": "stdout",
     "output_type": "stream",
     "text": [
      "/cache/images/cfa62af2557222a02478f1fcd781d445_cerberus_enhanced.tif_full.jpg\n"
     ]
    }
   ],
   "source": [
    "# Find image url for 'Cerberus Hemisphere Enhanced':\n",
    "# https://astrogeology.usgs.gov/search/map/Mars/Viking/cerberus_enhanced?open=true\n",
    "url = 'https://astrogeology.usgs.gov/search/map/Mars/Viking/cerberus_enhanced?open=true'\n",
    "browser.visit(url)\n",
    "\n",
    "html = browser.html\n",
    "soup = BeautifulSoup(html, 'html.parser')\n",
    "\n",
    "imageSrc = soup.find('img',class_='wide-image')['src']\n",
    "\n",
    "#Add this url to the original image url list:\n",
    "image_urls.append(imageSrc)\n",
    "#--------------\n",
    "# Add the above image urls and the hemisphere names to the list of dictionaries.\n",
    "dict_temp['title'] = titles[0]\n",
    "dict_temp['image_url'] = imageSrc\n",
    "\n",
    "dictList_image_urls.append(dict_temp.copy())\n",
    "\n",
    "#Add this value to a dictionary:\n",
    "combined_dict['url_1'] = imageSrc\n",
    "\n",
    "#--------------\n",
    "print(imageSrc)"
   ]
  },
  {
   "cell_type": "code",
   "execution_count": 289,
   "metadata": {},
   "outputs": [
    {
     "name": "stdout",
     "output_type": "stream",
     "text": [
      "/cache/images/3cdd1cbf5e0813bba925c9030d13b62e_schiaparelli_enhanced.tif_full.jpg\n"
     ]
    }
   ],
   "source": [
    "# Find image url for 'Schiaparelli Hemisphere Enhanced':\n",
    "# https://astrogeology.usgs.gov/search/map/Mars/Viking/schiaparelli_enhanced\n",
    "url = 'https://astrogeology.usgs.gov/search/map/Mars/Viking/schiaparelli_enhanced'\n",
    "browser.visit(url)\n",
    "\n",
    "html = browser.html\n",
    "soup = BeautifulSoup(html, 'html.parser')\n",
    "\n",
    "imageSrc = soup.find('img',class_='wide-image')['src']\n",
    "\n",
    "#Add this url to the original image url list:\n",
    "image_urls.append(imageSrc)\n",
    "\n",
    "#--------------\n",
    "# Add the above image urls and the hemisphere names to the list of dictionaries.\n",
    "dict_temp['title'] = titles[1]\n",
    "dict_temp['image_url'] = imageSrc\n",
    "\n",
    "dictList_image_urls.append(dict_temp.copy())\n",
    "\n",
    "#Add this value to a dictionary:\n",
    "combined_dict['url_2'] = imageSrc\n",
    "#--------------\n",
    "print(imageSrc)"
   ]
  },
  {
   "cell_type": "code",
   "execution_count": 290,
   "metadata": {},
   "outputs": [
    {
     "name": "stdout",
     "output_type": "stream",
     "text": [
      "/cache/images/ae209b4e408bb6c3e67b6af38168cf28_syrtis_major_enhanced.tif_full.jpg\n"
     ]
    }
   ],
   "source": [
    "# Find image url for 'Syrtis Major Hemisphere Enhanced':\n",
    "# https://astrogeology.usgs.gov/search/map/Mars/Viking/syrtis_major_enhanced\n",
    "url = 'https://astrogeology.usgs.gov/search/map/Mars/Viking/syrtis_major_enhanced'\n",
    "browser.visit(url)\n",
    "\n",
    "html = browser.html\n",
    "soup = BeautifulSoup(html, 'html.parser')\n",
    "\n",
    "imageSrc = soup.find('img',class_='wide-image')['src']\n",
    "\n",
    "#Add this url to the original image url list:\n",
    "image_urls.append(imageSrc)\n",
    "#--------------\n",
    "# Add the above image urls and the hemisphere names to the list of dictionaries.\n",
    "dict_temp['title'] = titles[2]\n",
    "dict_temp['image_url'] = imageSrc\n",
    "\n",
    "dictList_image_urls.append(dict_temp.copy())\n",
    "\n",
    "#Add this value to a dictionary:\n",
    "combined_dict['url_3'] = imageSrc\n",
    "#--------------\n",
    "\n",
    "print(imageSrc)"
   ]
  },
  {
   "cell_type": "code",
   "execution_count": 291,
   "metadata": {},
   "outputs": [
    {
     "name": "stdout",
     "output_type": "stream",
     "text": [
      "/cache/images/7cf2da4bf549ed01c17f206327be4db7_valles_marineris_enhanced.tif_full.jpg\n"
     ]
    }
   ],
   "source": [
    "# Find image url for 'Valles Marineris Hemisphere Enhanced':\n",
    "# https://astrogeology.usgs.gov/search/map/Mars/Viking/valles_marineris_enhanced\n",
    "url = 'https://astrogeology.usgs.gov/search/map/Mars/Viking/valles_marineris_enhanced'\n",
    "browser.visit(url)\n",
    "\n",
    "html = browser.html\n",
    "soup = BeautifulSoup(html, 'html.parser')\n",
    "\n",
    "imageSrc = soup.find('img',class_='wide-image')['src']\n",
    "\n",
    "#Add this url to the original image url list:\n",
    "image_urls.append(imageSrc)\n",
    "#--------------\n",
    "# Add the above image urls and the hemisphere names to the list of dictionaries.\n",
    "\n",
    "dict_temp['title'] = titles[3]\n",
    "dict_temp['image_url'] = imageSrc\n",
    "\n",
    "dictList_image_urls.append(dict_temp.copy())\n",
    "\n",
    "#Add this value to a dictionary:\n",
    "combined_dict['url_4'] = imageSrc\n",
    "#--------------\n",
    "\n",
    "print(imageSrc)"
   ]
  },
  {
   "cell_type": "code",
   "execution_count": 292,
   "metadata": {},
   "outputs": [
    {
     "name": "stdout",
     "output_type": "stream",
     "text": [
      "[{'title': 'Cerberus Hemisphere Enhanced', 'image_url': '/cache/images/cfa62af2557222a02478f1fcd781d445_cerberus_enhanced.tif_full.jpg'}, {'title': 'Schiaparelli Hemisphere Enhanced', 'image_url': '/cache/images/3cdd1cbf5e0813bba925c9030d13b62e_schiaparelli_enhanced.tif_full.jpg'}, {'title': 'Syrtis Major Hemisphere Enhanced', 'image_url': '/cache/images/ae209b4e408bb6c3e67b6af38168cf28_syrtis_major_enhanced.tif_full.jpg'}, {'title': 'Valles Marineris Hemisphere Enhanced', 'image_url': '/cache/images/7cf2da4bf549ed01c17f206327be4db7_valles_marineris_enhanced.tif_full.jpg'}]\n"
     ]
    }
   ],
   "source": [
    "# Print the resulting List of Dictionaries containing Mars hemisphere titles and the associated image url:\n",
    "from pprint import pprint\n",
    "#pprint(dictList_image_urls)\n",
    "print(dictList_image_urls)"
   ]
  },
  {
   "cell_type": "code",
   "execution_count": 293,
   "metadata": {},
   "outputs": [
    {
     "data": {
      "text/plain": [
       "[{'image_url': '/cache/images/cfa62af2557222a02478f1fcd781d445_cerberus_enhanced.tif_full.jpg',\n",
       "  'title': 'Cerberus Hemisphere Enhanced'},\n",
       " {'image_url': '/cache/images/3cdd1cbf5e0813bba925c9030d13b62e_schiaparelli_enhanced.tif_full.jpg',\n",
       "  'title': 'Schiaparelli Hemisphere Enhanced'},\n",
       " {'image_url': '/cache/images/ae209b4e408bb6c3e67b6af38168cf28_syrtis_major_enhanced.tif_full.jpg',\n",
       "  'title': 'Syrtis Major Hemisphere Enhanced'},\n",
       " {'image_url': '/cache/images/7cf2da4bf549ed01c17f206327be4db7_valles_marineris_enhanced.tif_full.jpg',\n",
       "  'title': 'Valles Marineris Hemisphere Enhanced'}]"
      ]
     },
     "execution_count": 293,
     "metadata": {},
     "output_type": "execute_result"
    }
   ],
   "source": [
    "# Write a method to convert this notebook to a .py file\n",
    "def scrape():\n",
    "    #!jupyter nbconvert --to script mission_to_mars.ipynb --output scrape_mars\n",
    "    return dictList_image_urls\n",
    "# Calling scrape function:\n",
    "scrape()"
   ]
  },
  {
   "cell_type": "code",
   "execution_count": 294,
   "metadata": {
    "collapsed": true
   },
   "outputs": [],
   "source": [
    "# def scrape_this():\n",
    "#     result_dict = {}\n",
    "#     result = zip(titles, image_urls)\n",
    "#     result_dict = dict(result)\n",
    "#     return result_dict # Always return a dictionary else the result does not update in mongo!"
   ]
  },
  {
   "cell_type": "code",
   "execution_count": 295,
   "metadata": {
    "collapsed": true
   },
   "outputs": [],
   "source": [
    "# Create a dictionary for hemisphere images and their titles.\n",
    "result_dict = {}\n",
    "result = zip(titles, image_urls)\n",
    "result_dict = dict(result)\n",
    "\n",
    "# #Add this dictionary to the combined dictionary:\n",
    "# combined_dict['marsHemispheres'] = result_dict\n"
   ]
  },
  {
   "cell_type": "code",
   "execution_count": 296,
   "metadata": {},
   "outputs": [
    {
     "name": "stdout",
     "output_type": "stream",
     "text": [
      "newsTitle : NASA's First Deep-Space CubeSats Say: 'Polo!'\n",
      "\n",
      "newsParagraph : MarCO is a pair of tiny spacecraft that launched with NASA's InSight lander today.\n",
      "\n",
      "featuredImage : /spaceimages/images/largesize/PIA20465_hires.jpg\n",
      "\n",
      "twitterMarsWeather : Sol 2042 (May 05, 2018), Sunny, high -7C/19F, low -72C/-97F, pressure at 7.30 hPa, daylight 05:23-17:20\n",
      "\n",
      "marsFactsHTML : <table border=\"1\" class=\"dataframe\">\n",
      "  <thead>\n",
      "    <tr style=\"text-align: right;\">\n",
      "      <th></th>\n",
      "      <th>0</th>\n",
      "      <th>1</th>\n",
      "    </tr>\n",
      "  </thead>\n",
      "  <tbody>\n",
      "    <tr>\n",
      "      <th>0</th>\n",
      "      <td>Equatorial Diameter:</td>\n",
      "      <td>6,792 km</td>\n",
      "    </tr>\n",
      "    <tr>\n",
      "      <th>1</th>\n",
      "      <td>Polar Diameter:</td>\n",
      "      <td>6,752 km</td>\n",
      "    </tr>\n",
      "    <tr>\n",
      "      <th>2</th>\n",
      "      <td>Mass:</td>\n",
      "      <td>6.42 x 10^23 kg (10.7% Earth)</td>\n",
      "    </tr>\n",
      "    <tr>\n",
      "      <th>3</th>\n",
      "      <td>Moons:</td>\n",
      "      <td>2 (Phobos &amp; Deimos)</td>\n",
      "    </tr>\n",
      "    <tr>\n",
      "      <th>4</th>\n",
      "      <td>Orbit Distance:</td>\n",
      "      <td>227,943,824 km (1.52 AU)</td>\n",
      "    </tr>\n",
      "    <tr>\n",
      "      <th>5</th>\n",
      "      <td>Orbit Period:</td>\n",
      "      <td>687 days (1.9 years)</td>\n",
      "    </tr>\n",
      "    <tr>\n",
      "      <th>6</th>\n",
      "      <td>Surface Temperature:</td>\n",
      "      <td>-153 to 20 °C</td>\n",
      "    </tr>\n",
      "    <tr>\n",
      "      <th>7</th>\n",
      "      <td>First Record:</td>\n",
      "      <td>2nd millennium BC</td>\n",
      "    </tr>\n",
      "    <tr>\n",
      "      <th>8</th>\n",
      "      <td>Recorded By:</td>\n",
      "      <td>Egyptian astronomers</td>\n",
      "    </tr>\n",
      "  </tbody>\n",
      "</table>\n",
      "\n",
      "hemisphere_title : Valles Marineris Hemisphere Enhanced\n",
      "\n",
      "url_1 : /cache/images/cfa62af2557222a02478f1fcd781d445_cerberus_enhanced.tif_full.jpg\n",
      "\n",
      "url_2 : /cache/images/3cdd1cbf5e0813bba925c9030d13b62e_schiaparelli_enhanced.tif_full.jpg\n",
      "\n",
      "url_3 : /cache/images/ae209b4e408bb6c3e67b6af38168cf28_syrtis_major_enhanced.tif_full.jpg\n",
      "\n",
      "url_4 : /cache/images/7cf2da4bf549ed01c17f206327be4db7_valles_marineris_enhanced.tif_full.jpg\n",
      "\n"
     ]
    }
   ],
   "source": [
    "# Iterate over the combined dictionary and print each item and its value:\n",
    "for key, value in combined_dict.items():\n",
    "    print(key + ' : ' + value +'\\n')"
   ]
  },
  {
   "cell_type": "code",
   "execution_count": null,
   "metadata": {
    "collapsed": true
   },
   "outputs": [],
   "source": [
    "def scrape_this():\n",
    "    return combined_dict"
   ]
  },
  {
   "cell_type": "code",
   "execution_count": null,
   "metadata": {
    "collapsed": true
   },
   "outputs": [],
   "source": []
  }
 ],
 "metadata": {
  "kernelspec": {
   "display_name": "Python 3",
   "language": "python",
   "name": "python3"
  },
  "language_info": {
   "codemirror_mode": {
    "name": "ipython",
    "version": 3
   },
   "file_extension": ".py",
   "mimetype": "text/x-python",
   "name": "python",
   "nbconvert_exporter": "python",
   "pygments_lexer": "ipython3",
   "version": "3.6.3"
  }
 },
 "nbformat": 4,
 "nbformat_minor": 2
}
